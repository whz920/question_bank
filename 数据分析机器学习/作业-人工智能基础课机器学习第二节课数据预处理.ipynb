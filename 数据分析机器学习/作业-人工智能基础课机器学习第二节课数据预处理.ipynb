{
 "cells": [
  {
   "cell_type": "markdown",
   "metadata": {},
   "source": [
    "![](https://img.kaikeba.com/web/kkb_index/img_index_logo.png)"
   ]
  },
  {
   "cell_type": "markdown",
   "metadata": {},
   "source": [
    "# 人工智能基础课机器学习 第二节课作业 股票数据清洗\n",
    "\n",
    "同学们好，本次作业的主要内容为使用pandas进行数据预处理。希望这两天你们已经从Python的课程内容中回过神来了。\n",
    "没有数据的分析是无源之水，能够熟练处理数据是成为合格的数据分析师的基本要求，希望大家在今后多多实战，成为数据大师。\n",
    "\n",
    "本次作业将使用公开标普500的股票数据。\n",
    "https://www.kaggle.com/dgawlik/nyse#prices-split-adjusted.csv\n",
    "\n",
    "作业的形式以问答为主，因为不涉及过长的代码，核心是数据的操作，所以这里没有太多的代码模板可供大家参考。\n",
    "希望大家能从搜索引擎（google/bing）问答社区（stackoverflow）或者[官方文档](https://pandas.pydata.org/pandas-docs/stable/user_guide/index.html)或者我提供的jupyter notebooks 中找到回答问题需要的方法。\n",
    "请时刻牢记数据的增删改查四种原子操作，思考我们的问题可以被如何分解。\n",
    "\n",
    "那么首先，我们要import pandas"
   ]
  },
  {
   "cell_type": "code",
   "execution_count": null,
   "metadata": {},
   "outputs": [],
   "source": [
    "import pandas as pd"
   ]
  },
  {
   "cell_type": "markdown",
   "metadata": {},
   "source": [
    "# 1. 从fundemantals.csv开始！\n",
    "\n",
    "fundemantals.csv 是这些股票的年报数据\n",
    "\n",
    "请用数据回答以下问题：\n",
    "\n",
    "1. S&P500股票在2015年`net income`的均值是多少？最大值比最小值多多少？（每问10分，共计20分）\n",
    "2. S&P500股票在2016年的固定资产（fixed assets）占总资产(total assets)比例的均值是多少？固定资产占总资产比例最小的股票是的代码（ticker symbol）是什么？（每问10分，共计20分）\n"
   ]
  },
  {
   "cell_type": "code",
   "execution_count": null,
   "metadata": {},
   "outputs": [],
   "source": []
  },
  {
   "cell_type": "markdown",
   "metadata": {},
   "source": [
    "# 2. 加入securities.csv~\n",
    "\n",
    "securities.csv包含了这些股票的基本信息\n",
    "\n",
    "1. 请列举出各个sector中的加入时间最早的股票名称（10分）\n",
    "2. 请列举出每一个州中加入时间最晚的股票名称（10分）\n"
   ]
  },
  {
   "cell_type": "code",
   "execution_count": null,
   "metadata": {},
   "outputs": [],
   "source": []
  },
  {
   "cell_type": "markdown",
   "metadata": {},
   "source": [
    "# 3. merge!\n",
    "\n",
    "现在你需要同时处理来自两个表中的信息了\n",
    "\n",
    "1. 请思考，合并两个表的信息的时候，我们应该用什么样的准则对其它们（10分）\n",
    "2. 请列举每个sector在2013-2016年累计Research&Development的总投入（10分）\n",
    "3. 请列举出每个sector中，在2013-2016年累计Research&development投入最大的3家公司的名称以及投入的数值（20分）"
   ]
  },
  {
   "cell_type": "code",
   "execution_count": null,
   "metadata": {},
   "outputs": [],
   "source": []
  },
  {
   "cell_type": "markdown",
   "metadata": {},
   "source": [
    "# 4. 现在让我们来看看更加复杂的数据\n",
    "\n",
    "请导入price.csv，然后结合你的聪明才智回答以下问题（附加题，40分）\n",
    "\n",
    "假设你是某基金公司的老板，现在对于每只股票，你都专门安排了一位负责它的交易员。公司规定每一位交易员手中的资金要么全部买入要么全部卖出（空仓，转化为现金）。假设2016年每一位交易员手中都有10000美元，假设他们都能够看到2016年全年的数据，假设他们都能抓住每一次机会，那么请问2016年底时，赚钱最多的股票是哪一只，赚了多少钱？"
   ]
  },
  {
   "cell_type": "code",
   "execution_count": null,
   "metadata": {},
   "outputs": [],
   "source": []
  }
 ],
 "metadata": {
  "kernelspec": {
   "display_name": "Python 3",
   "language": "python",
   "name": "python3"
  },
  "language_info": {
   "codemirror_mode": {
    "name": "ipython",
    "version": 3
   },
   "file_extension": ".py",
   "mimetype": "text/x-python",
   "name": "python",
   "nbconvert_exporter": "python",
   "pygments_lexer": "ipython3",
   "version": "3.7.4"
  }
 },
 "nbformat": 4,
 "nbformat_minor": 4
}
