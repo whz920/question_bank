{
 "cells": [
  {
   "cell_type": "markdown",
   "metadata": {},
   "source": [
    "![](https://img.kaikeba.com/web/kkb_index/img_index_logo.png)"
   ]
  },
  {
   "cell_type": "markdown",
   "metadata": {},
   "source": [
    "# 基础课第一部分（python）第二次作业  \n",
    "\n",
    "同学们～大家好！又到了做作业的时间了！上次的作业有 print使用 和 安装Python Pycharm Anaconda 的教程，请确认安装软件好了～\n",
    "本次作业有三个题目：\n",
    "- 1. 实现一周的记账功能\n",
    "- 2. 实现ATM机功能\n",
    "- 3. 词汇表生成及统计\n",
    "\n",
    "## 1. 实现一周的记账功能\n",
    "\n",
    "首先记录输入的7天的收入，然后记录输入的7天的支出。  \n",
    "然后打印出以下内容：\n",
    "- 7天的收入(list)\n",
    "- 7天的支出(list)\n",
    "- 每天的结余(dict)\n",
    "- 最终的结余"
   ]
  },
  {
   "cell_type": "code",
   "execution_count": null,
   "metadata": {},
   "outputs": [],
   "source": [
    "# your code"
   ]
  },
  {
   "cell_type": "markdown",
   "metadata": {},
   "source": [
    "## 2. 实现ATM机器\n",
    "- 查询余额\n",
    "- 存款\n",
    "- 取款\n",
    "- 退出"
   ]
  },
  {
   "cell_type": "code",
   "execution_count": null,
   "metadata": {},
   "outputs": [],
   "source": [
    "# your code"
   ]
  },
  {
   "cell_type": "markdown",
   "metadata": {},
   "source": [
    "## 3. 词汇表生成及统计\n",
    "\n",
    "下面是一段[文本](http://baijiahao.baidu.com/s?id=1646569900805781240&wfr=spider&for=pc)：\n",
    "\n",
    "> 2019年十月一日上午，庆祝中华人民共和国成立70周年阅兵式在首都北京盛大举行，59个阅兵方阵，580台受阅装备，1.5万人的参阅队伍接受了全国人民的检阅。阅兵装备方队展示的武器装备皆为国产现役主战装备，40%为首次展示。其中近些年来广受全球关注的东风41洲际弹道导弹，巨浪二潜射弹道导弹，东风17高超音速武器系统终于揭幕亮剑，以\"不怒自威\"的形象向世界展示中国捍卫和平的意志与力量。相较于其他首度公开亮相的武器装备，这三款武器多年来传闻不断，备受关注，并因其\"大国基石\"的地位而被公众赋予特殊的期待，这三款武器装备实力究竟如何，又各自承担着怎样的历史\"使命\"呢？本报特约相关领域军事专家，为大家详细解读这三款彰显国威，震撼世界的国之重器。 \n",
    "\n",
    "经过分词后得到以下单词，通过空格分隔。\n",
    "\n",
    "```python\n",
    "text = '2019 年 十月 一日 上午 ， 庆祝 中华人民共和国 成立 70 周年 阅兵式 在 首都北京 盛大举行 ， 59 个 阅兵 方阵 ， 580 台受 阅 装备 ， 1.5 万人 的 参阅 队伍 接受 了 全国 人民 的 检阅 。 阅兵 装备 方队 展示 的 武器装备 皆 为 国产 现役 主战 装备 ， 40% 为 首次 展示 。 其中 近些年来 广受 全球 关注 的 东风 41 洲际 弹道导弹 ， 巨浪 二潜射 弹道导弹 ， 东风 17 高超音速 武器 系统 终于 揭幕 亮剑 ， 以 \" 不怒 自威 \" 的 形象 向 世界 展示 中国 捍卫 和平 的 意志 与 力量 。 相较 于 其他 首度 公开 亮相 的 武器装备 ， 这 三款 武器 多年 来 传闻 不断 ， 备受 关注 ， 并 因 其 \" 大国 基石 \" 的 地位 而 被 公众 赋予 特殊 的 期待 ， 这 三款 武器装备 实力 究竟 如何 ， 又 各自 承担 着 怎样 的 历史 \" 使命 \" 呢 ？ 本报 特约 相关 领域 军事 专家 ， 为 大家 详细 解读 这 三款 彰显 国威 ， 震撼 世界 的 国 之 重器 。'\n",
    "```\n",
    "\n",
    "将文本生成词汇表(单词list)，单词对应ID的dict，以及ID对应单词的dict。\n",
    "将你的程序变成一个盒子，\n",
    "\n",
    "输入就是上面一段文本，\n",
    "\n",
    "盒子内部：首先将文本转换成单词列表，再得到统计的单词表(去重)，然后得到单词ID相互对应的字典。\n",
    "\n",
    "输出：词汇表，word2id, id2word  \n",
    "效果如下：  \n",
    "\n",
    "```python\n",
    "vocab = ['大家', '中国', '捍卫', ...}\n",
    "word2id = {'大家': 0, '中国': 1, '捍卫': 2, ...}\n",
    "id2word = {0: '大家', 1: '中国', 2: '捍卫', ...}\n",
    "```"
   ]
  },
  {
   "cell_type": "code",
   "execution_count": null,
   "metadata": {},
   "outputs": [],
   "source": [
    "# your code"
   ]
  },
  {
   "cell_type": "markdown",
   "metadata": {},
   "source": [
    "\n",
    "本次的作业就到这里了！祝大家学习进步！\n",
    "![image alt <](http://5b0988e595225.cdn.sohucs.com/images/20190420/1d1070881fd540db817b2a3bdd967f37.gif)"
   ]
  }
 ],
 "metadata": {
  "kernelspec": {
   "display_name": "Python 3",
   "language": "python",
   "name": "python3"
  },
  "language_info": {
   "codemirror_mode": {
    "name": "ipython",
    "version": 3
   },
   "file_extension": ".py",
   "mimetype": "text/x-python",
   "name": "python",
   "nbconvert_exporter": "python",
   "pygments_lexer": "ipython3",
   "version": "3.7.4"
  }
 },
 "nbformat": 4,
 "nbformat_minor": 4
}
